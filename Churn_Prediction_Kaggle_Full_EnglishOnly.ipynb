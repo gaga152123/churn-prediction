{
 "cells": [
  {
   "cell_type": "markdown",
   "id": "bcdd64c9",
   "metadata": {},
   "source": [
    "\n",
    "# 📦 고객 이탈 예측 분석 (Kaggle API 연동 최종본)\n",
    "\n",
    "이 노트북은 `kaggle.json` API 키를 활용하여 Kaggle에서 데이터를 자동 다운로드하고,  \n",
    "통신사 고객 이탈(Churn)을 예측하는 머신러닝 분석을 수행합니다.\n",
    "\n",
    "---\n",
    "\n",
    "## ✅ Usage Summary\n",
    "\n",
    "1. [Kaggle 계정](https://www.kaggle.com/account)에서 `kaggle.json` API 키 다운로드  \n",
    "2. 아래 코드 셀에서 `kaggle.json` 업로드  \n",
    "3. 데이터 자동 다운로드 및 Unzip data  \n",
    "4. 분석 코드 실행!\n"
   ]
  },
  {
   "cell_type": "markdown",
   "id": "4ab3d2d4",
   "metadata": {},
   "source": [
    "## 🔐 Step 1. Upload kaggle.json"
   ]
  },
  {
   "cell_type": "code",
   "execution_count": null,
   "id": "cf729649",
   "metadata": {},
   "outputs": [],
   "source": [
    "\n",
    "from google.colab import files\n",
    "files.upload()  # kaggle.json 선택\n"
   ]
  },
  {
   "cell_type": "markdown",
   "id": "e94f4c27",
   "metadata": {},
   "source": [
    "## ⚙️ Step 2. Kaggle API Setup"
   ]
  },
  {
   "cell_type": "code",
   "execution_count": null,
   "id": "923a62a1",
   "metadata": {},
   "outputs": [],
   "source": [
    "\n",
    "!mkdir -p ~/.kaggle\n",
    "!cp kaggle.json ~/.kaggle/\n",
    "!chmod 600 ~/.kaggle/kaggle.json\n"
   ]
  },
  {
   "cell_type": "markdown",
   "id": "9967d8bb",
   "metadata": {},
   "source": [
    "## 📥 Step 3. Download data 및 Unzip data"
   ]
  },
  {
   "cell_type": "code",
   "execution_count": null,
   "id": "3d3adb6d",
   "metadata": {},
   "outputs": [],
   "source": [
    "\n",
    "!kaggle datasets download -d blastchar/telco-customer-churn\n",
    "!unzip -o telco-customer-churn.zip -d telco_data\n"
   ]
  },
  {
   "cell_type": "markdown",
   "id": "2b5c53af",
   "metadata": {},
   "source": [
    "## 📄 Step 4. Load data"
   ]
  },
  {
   "cell_type": "code",
   "execution_count": null,
   "id": "871ef80e",
   "metadata": {},
   "outputs": [],
   "source": [
    "\n",
    "import pandas as pd\n",
    "\n",
    "df = pd.read_csv(\"telco_data/WA_Fn-UseC_-Telco-Customer-Churn.csv\")\n",
    "df.head()\n"
   ]
  },
  {
   "cell_type": "markdown",
   "id": "cbbdeeab",
   "metadata": {},
   "source": [
    "## 📊 Step 5. Churn Ratio Visualization"
   ]
  },
  {
   "cell_type": "code",
   "execution_count": null,
   "id": "c34199e1",
   "metadata": {},
   "outputs": [],
   "source": [
    "\n",
    "import matplotlib.pyplot as plt\n",
    "\n",
    "df['Churn'].value_counts(normalize=True).plot(kind='bar', title='Churn Ratio')\n",
    "plt.show()\n"
   ]
  },
  {
   "cell_type": "markdown",
   "id": "fd07f52b",
   "metadata": {},
   "source": [
    "## 🧹 Step 6. Data Preprocessing"
   ]
  },
  {
   "cell_type": "code",
   "execution_count": null,
   "id": "4d2e3fdf",
   "metadata": {},
   "outputs": [],
   "source": [
    "\n",
    "from sklearn.model_selection import train_test_split\n",
    "from sklearn.preprocessing import LabelEncoder\n",
    "\n",
    "df['TotalCharges'] = pd.to_numeric(df['TotalCharges'], errors='coerce')\n",
    "df = df.dropna()\n",
    "\n",
    "le = LabelEncoder()\n",
    "for col in df.columns:\n",
    "    if df[col].dtype == 'object' and col != 'customerID':\n",
    "        df[col] = le.fit_transform(df[col])\n",
    "\n",
    "X = df.drop(['customerID', 'Churn'], axis=1)\n",
    "y = df['Churn']\n",
    "\n",
    "X_train, X_test, y_train, y_test = train_test_split(X, y, test_size=0.2, random_state=42)\n"
   ]
  },
  {
   "cell_type": "markdown",
   "id": "b61d74c3",
   "metadata": {},
   "source": [
    "## 🤖 Step 7. Logistic Regression"
   ]
  },
  {
   "cell_type": "code",
   "execution_count": null,
   "id": "0d2f7b6b",
   "metadata": {},
   "outputs": [],
   "source": [
    "\n",
    "from sklearn.linear_model import LogisticRegression\n",
    "from sklearn.metrics import classification_report, accuracy_score\n",
    "\n",
    "model_lr = LogisticRegression(max_iter=1000)\n",
    "model_lr.fit(X_train, y_train)\n",
    "y_pred_lr = model_lr.predict(X_test)\n",
    "\n",
    "print(\"정확도:\", accuracy_score(y_test, y_pred_lr))\n",
    "print(classification_report(y_test, y_pred_lr))\n"
   ]
  },
  {
   "cell_type": "markdown",
   "id": "ade265e2",
   "metadata": {},
   "source": [
    "## 🌲 Step 8. Random Forest"
   ]
  },
  {
   "cell_type": "code",
   "execution_count": null,
   "id": "753f4a1f",
   "metadata": {},
   "outputs": [],
   "source": [
    "\n",
    "from sklearn.ensemble import RandomForestClassifier\n",
    "\n",
    "model_rf = RandomForestClassifier()\n",
    "model_rf.fit(X_train, y_train)\n",
    "y_pred_rf = model_rf.predict(X_test)\n",
    "\n",
    "print(\"정확도:\", accuracy_score(y_test, y_pred_rf))\n",
    "print(classification_report(y_test, y_pred_rf))\n"
   ]
  },
  {
   "cell_type": "markdown",
   "id": "18e9cade",
   "metadata": {},
   "source": [
    "## ⚡ Step 9. XGBoost 모델"
   ]
  },
  {
   "cell_type": "code",
   "execution_count": null,
   "id": "f5ccca9f",
   "metadata": {},
   "outputs": [],
   "source": [
    "\n",
    "!pip install xgboost\n",
    "from xgboost import XGBClassifier\n",
    "\n",
    "model_xgb = XGBClassifier(use_label_encoder=False, eval_metric='logloss')\n",
    "model_xgb.fit(X_train, y_train)\n",
    "y_pred_xgb = model_xgb.predict(X_test)\n",
    "\n",
    "print(\"정확도:\", accuracy_score(y_test, y_pred_xgb))\n",
    "print(classification_report(y_test, y_pred_xgb))\n"
   ]
  },
  {
   "cell_type": "markdown",
   "id": "5177d933",
   "metadata": {},
   "source": [
    "## 🔍 Step 10. 주요 Feature Importance"
   ]
  },
  {
   "cell_type": "code",
   "execution_count": null,
   "id": "266cf3b1",
   "metadata": {},
   "outputs": [],
   "source": [
    "\n",
    "import seaborn as sns\n",
    "\n",
    "feat_importances = pd.Series(model_rf.feature_importances_, index=X.columns)\n",
    "feat_importances.nlargest(10).plot(kind='barh')\n",
    "plt.title(\"Top 10 Important Features\")\n",
    "plt.xlabel(\"Importance\")\n",
    "plt.show()\n"
   ]
  },
  {
   "cell_type": "markdown",
   "id": "d3c0d1f1",
   "metadata": {},
   "source": [
    "\n",
    "## ✅ Conclusion and Recommendations\n",
    "\n",
    "- XGBoost 모델이 가장 높은 성능을 보였음\n",
    "- 주요 이탈 원인은 `월 요금`, `계약 형태`, `고객 지원 품질`\n",
    "- 실무 전략:\n",
    "  - 장기 계약 유도\n",
    "  - 고요금 고객 대상 맞춤 마케팅\n",
    "  - 기술 지원 품질 개선\n"
   ]
  }
 ],
 "metadata": {},
 "nbformat": 4,
 "nbformat_minor": 5
}
